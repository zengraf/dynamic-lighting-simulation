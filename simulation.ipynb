{
 "cells": [
  {
   "cell_type": "code",
   "execution_count": 1,
   "id": "about-fifteen",
   "metadata": {},
   "outputs": [
    {
     "data": {
      "text/plain": [
       ":move!"
      ]
     },
     "execution_count": 1,
     "metadata": {},
     "output_type": "execute_result"
    }
   ],
   "source": [
    "class Lamp\n",
    "  attr_reader :name, :room, :x, :y, :radius, :max_lumens, :max_consumption, :forgotten\n",
    "  \n",
    "  def initialize(name, room, x, y, height, radius, max_lumens, max_consumption)\n",
    "    @name = name\n",
    "    @room = room\n",
    "    @x = x\n",
    "    @y = y\n",
    "    @height = height\n",
    "    @radius = radius\n",
    "    @max_lumens = max_lumens\n",
    "    @max_consumption = max_consumption\n",
    "    @power = 0\n",
    "    @requests = []\n",
    "    @forgotten = false\n",
    "  end\n",
    "  \n",
    "  def target(x, y, aura = 0)\n",
    "    @target_aura = aura\n",
    "    @distance_squared = (@x - x) ** 2 + (@y - y) ** 2\n",
    "#     puts \"#{@room.name} | #{@name} - distance #{Math.sqrt(@distance_squared) / 46}\"\n",
    "  end\n",
    "  \n",
    "  def in_range\n",
    "    @distance_squared <= (@target_aura + @radius) ** 2\n",
    "  end\n",
    "  \n",
    "  def max_illumination\n",
    "    @max_lumens / (@distance_squared / (46.0 ** 2) + @height ** 2)\n",
    "  end\n",
    "  \n",
    "  def efficiency\n",
    "    max_illumination / @max_consumption\n",
    "  end\n",
    "  \n",
    "  def comfortability\n",
    "    -@distance_squared\n",
    "  end\n",
    "  \n",
    "  def on?\n",
    "    @power != 0\n",
    "  end\n",
    "  \n",
    "  def request(requested_illumination)\n",
    "    @requests << (requested_illumination / max_illumination).clamp(0, 1)\n",
    "    @requests.max * max_illumination\n",
    "  end\n",
    "  \n",
    "  def on!\n",
    "    @requests << 1\n",
    "    @forgotten = false\n",
    "  end\n",
    "  \n",
    "  def apply(forget_ratio = 0)\n",
    "    new_power = @requests.max || 0\n",
    "    @forgotten = true if @power == 1 && new_power == 0 && rand() < forget_ratio\n",
    "    @power = new_power unless @forgotten\n",
    "    @requests = []\n",
    "#     puts \"#{@room.name} | #{@name} - power #{@power}\"\n",
    "  end\n",
    "  \n",
    "  def consumption\n",
    "    @max_consumption * @power\n",
    "  end\n",
    "  \n",
    "  def illumination\n",
    "    max_illumination * @power\n",
    "  end\n",
    "end\n",
    "\n",
    "class Room\n",
    "  attr_reader :name, :apartment, :top, :right, :bottom, :left, :lamps\n",
    "  \n",
    "  def initialize(name, apartment, top, right, bottom, left, lamps)\n",
    "    @name = name\n",
    "    @apartment = apartment\n",
    "    @top = top\n",
    "    @right = right\n",
    "    @bottom = bottom\n",
    "    @left = left\n",
    "    @lamps = lamps.map { |l| Lamp.new(l[:name], self, l[:x], l[:y], l[:height], l[:radius], l[:max_lumens], l[:max_consumption]) }\n",
    "  end\n",
    "  \n",
    "  def include?(x, y)\n",
    "    (left..right).include?(x) && (top..bottom).include?(y)\n",
    "  end\n",
    "end\n",
    "\n",
    "class Apartment\n",
    "  attr_reader :width, :height, :rooms, :hall\n",
    "  \n",
    "  def initialize(width, height, rooms, hall_lamps)\n",
    "    @height = height\n",
    "    @width = width\n",
    "    @rooms = rooms.map { |r| Room.new(r[:name], self, r[:top], r[:right], r[:bottom], r[:left], r[:lamps]) }\n",
    "    @hall = Room.new(\"Hall\", self, 0, width, height, 0, hall_lamps)\n",
    "  end\n",
    "  \n",
    "  def find_room(x, y)\n",
    "    return nil unless (0..width).include?(x) && (0..height).include?(y)\n",
    "    @rooms.each { |room| return room if room.include?(x, y) }\n",
    "    hall\n",
    "  end\n",
    "end\n",
    "\n",
    "class Person\n",
    "  attr_reader :name, :apartment, :room, :x, :y\n",
    "  \n",
    "  def initialize(name, apartment, x, y)\n",
    "    @name = name\n",
    "    @apartment = apartment\n",
    "    @room = apartment.find_room(x, y)\n",
    "    @x = x\n",
    "    @y = y\n",
    "  end\n",
    "  \n",
    "  def move!\n",
    "    return if rand() < 0.3 # does not move\n",
    "    \n",
    "    # moves maximum 40 pixels in x and y per iteration\n",
    "    @x = (@x + (rand() - 0.5) * 80).clamp(0, @apartment.width)\n",
    "    @y = (@y + (rand() - 0.5) * 80).clamp(0, @apartment.height)\n",
    "    \n",
    "    while @x < 80 && @y > 305 do\n",
    "      @x = (@x + (rand() - 0.5) * 80).clamp(0, @apartment.width)\n",
    "      @y = (@y + (rand() - 0.5) * 80).clamp(0, @apartment.height)\n",
    "    end\n",
    "    \n",
    "    @room = @apartment.find_room @x, @y\n",
    "    \n",
    "#     puts \"#{@name} moved to (#{@x.round}, #{@y.round}) – #{@room.name}\"\n",
    "  end\n",
    "end"
   ]
  },
  {
   "cell_type": "code",
   "execution_count": 2,
   "id": "atlantic-charlotte",
   "metadata": {},
   "outputs": [
    {
     "name": "stdout",
     "output_type": "stream",
     "text": [
      "OK\n"
     ]
    }
   ],
   "source": [
    "apartment = Apartment.new(\n",
    "  440,\n",
    "  370,\n",
    "  [\n",
    "    { name: \"Bathroom\", top: 146, right: 140, bottom: 306, left: 0, lamps: [\n",
    "      { name: \"Ceiling\", x: 70, y: 225, height: 2.7, radius: 105, max_lumens: 1500 , max_consumption: 20 },\n",
    "      { name: \"Mirror 1\", x: 16, y: 207, height: 2, radius: 35, max_lumens: 2 * 470, max_consumption: 2 * 6 },\n",
    "      { name: \"Mirror 2\", x: 16, y: 243, height: 2, radius: 35, max_lumens: 2 * 470, max_consumption: 2 * 6 },\n",
    "      { name: \"Rear 1\", x: 44, y: 162, height: 1.6, radius: 35, max_lumens: 470 , max_consumption: 6 },\n",
    "      { name: \"Rear 2\", x: 70, y: 162, height: 1.6, radius: 35, max_lumens: 470 , max_consumption: 6 },\n",
    "      { name: \"Rear 3\", x: 96, y: 162, height: 1.6, radius: 35, max_lumens: 470 , max_consumption: 6 },\n",
    "    ]},\n",
    "    { name: \"Bedroom 1\", top: 146, right: 440, bottom: 252, left: 240, lamps: [\n",
    "      { name: \"Ceiling\", x: 340, y: 200, height: 2.7, radius: 115, max_lumens: 3 * 470, max_consumption: 3 * 6.5 },\n",
    "      { name: \"Desk\", x: 395, y: 170, height: 2, radius: 45, max_lumens: 470, max_consumption: 6 },\n",
    "    ]},\n",
    "    { name: \"Bedroom 2\", top: 252, right: 440, bottom: 370, left: 240, lamps: [\n",
    "      { name: \"Ceiling\", x: 340, y: 310, height: 2.7, radius: 115, max_lumens: 4 * 450, max_consumption: 4 * 6 },\n",
    "      { name: \"Desk\", x: 395, y: 270, height: 1.5, radius: 45, max_lumens: 470, max_consumption: 6 },\n",
    "    ]},\n",
    "  ],\n",
    "  [\n",
    "    { name: \"Entrance\", x: 155, y: 355, height: 2.7, radius: 160, max_lumens: 2 * 500, max_consumption: 2 * 7 },\n",
    "    { name: \"Corridor\", x: 190, y: 230, height: 2.7, radius: 100, max_lumens: 3 * 470, max_consumption: 3 * 6.5 },\n",
    "    { name: \"Living room 1\", x: 125, y: 70, height: 2.7, radius: 135, max_lumens: 2000, max_consumption: 25 },\n",
    "    { name: \"Living room 2\", x: 325, y: 70, height: 2.7, radius: 135, max_lumens: 2000, max_consumption: 25 },\n",
    "    { name: \"Floor lamp\", x: 400, y: 30, height: 2, radius: 60, max_lumens: 800, max_consumption: 15 },\n",
    "    { name: \"Kitchen 1\", x: 16, y: 40, height: 1.6, radius: 45, max_lumens: 400, max_consumption: 6 },\n",
    "    { name: \"Kitchen 2\", x: 16, y: 105, height: 1.6, radius: 45, max_lumens: 470, max_consumption: 60 },\n",
    "  ]\n",
    ")\n",
    "puts \"OK\""
   ]
  },
  {
   "attachments": {
    "Flat.png": {
     "image/png": "[encoded data removed]"
    }
   },
   "cell_type": "markdown",
   "id": "twelve-century",
   "metadata": {},
   "source": [
    "![Flat.png](attachment:Flat.png)"
   ]
  },
  {
   "cell_type": "code",
   "execution_count": 3,
   "id": "trying-symphony",
   "metadata": {},
   "outputs": [
    {
     "data": {
      "text/plain": [
       ":test"
      ]
     },
     "execution_count": 3,
     "metadata": {},
     "output_type": "execute_result"
    }
   ],
   "source": [
    "def test(method, iterations, apartment, people)\n",
    "  samples = []\n",
    "  iterations.times do\n",
    "    samples << method.call(apartment, people)\n",
    "  end\n",
    "  samples.sum / iterations\n",
    "end"
   ]
  },
  {
   "cell_type": "markdown",
   "id": "logical-mission",
   "metadata": {},
   "source": [
    "## Power saving\n",
    "\n",
    "Uses algorithm that decides which lamps to turn on based on their efficiency over distance\n",
    "\n",
    "Assures area near user will have luminocity of 150 lux\n",
    "\n",
    "Each person has 1m activation radius"
   ]
  },
  {
   "cell_type": "code",
   "execution_count": 4,
   "id": "thick-lotus",
   "metadata": {},
   "outputs": [
    {
     "data": {
      "text/plain": [
       "#<Proc:0x00007fae48148f90 (irb):0>"
      ]
     },
     "execution_count": 4,
     "metadata": {},
     "output_type": "execute_result"
    }
   ],
   "source": [
    "power_saving_iteration = proc do |apartment, people|\n",
    "  desired_illumination = 150\n",
    "  \n",
    "  people.each do |person|\n",
    "    person.move!\n",
    "    nearby_lamps = person.room.lamps.each { |lamp| lamp.target(person.x, person.y, 45) }.filter(&:in_range).sort_by(&:efficiency)\n",
    "    \n",
    "    illumination = desired_illumination\n",
    "    while !nearby_lamps.empty?\n",
    "      total_efficiency = nearby_lamps.map(&:efficiency).inject(:+)\n",
    "      lamp = nearby_lamps.shift\n",
    "      illumination -= lamp.request(illumination * lamp.efficiency / total_efficiency)\n",
    "    end\n",
    "    puts \"Not enough light! #{illumination} more lux needed (#{person.x.round}, #{person.y.round})\" if illumination > 60\n",
    "  end\n",
    "  (apartment.rooms + [apartment.hall]).map(&:lamps).flatten.each(&:apply).map(&:consumption).inject(:+)\n",
    "end"
   ]
  },
  {
   "cell_type": "markdown",
   "id": "written-closure",
   "metadata": {},
   "source": [
    "### Power saving single"
   ]
  },
  {
   "cell_type": "code",
   "execution_count": 5,
   "id": "plastic-matter",
   "metadata": {},
   "outputs": [
    {
     "name": "stdout",
     "output_type": "stream",
     "text": [
      "Ernest Khalimov\n"
     ]
    },
    {
     "data": {
      "text/plain": [
       "17.792434869115027"
      ]
     },
     "execution_count": 5,
     "metadata": {},
     "output_type": "execute_result"
    }
   ],
   "source": [
    "people_single = [Person.new(\"Ernest Khalimov\", apartment, apartment.width / 2, apartment.height / 2)]\n",
    "puts people_single.map(&:name)\n",
    "test(power_saving_iteration, 18000, apartment, people_single)"
   ]
  },
  {
   "cell_type": "markdown",
   "id": "handled-breakdown",
   "metadata": {},
   "source": [
    "### Power saving two"
   ]
  },
  {
   "cell_type": "code",
   "execution_count": 6,
   "id": "mexican-export",
   "metadata": {},
   "outputs": [
    {
     "name": "stdout",
     "output_type": "stream",
     "text": [
      "Ernest Khalimov\n",
      "Alisher Morgenshtern\n"
     ]
    },
    {
     "data": {
      "text/plain": [
       "33.088933389019545"
      ]
     },
     "execution_count": 6,
     "metadata": {},
     "output_type": "execute_result"
    }
   ],
   "source": [
    "people_two = [\n",
    "  Person.new(\"Ernest Khalimov\", apartment, apartment.width / 2, apartment.height / 2),\n",
    "  Person.new(\"Alisher Morgenshtern\", apartment, apartment.width / 2, apartment.height / 2)\n",
    "]\n",
    "puts people_two.map(&:name)\n",
    "test(power_saving_iteration, 18000, apartment, people_two)"
   ]
  },
  {
   "cell_type": "markdown",
   "id": "valuable-strengthening",
   "metadata": {},
   "source": [
    "### Power saving three"
   ]
  },
  {
   "cell_type": "code",
   "execution_count": 7,
   "id": "current-world",
   "metadata": {},
   "outputs": [
    {
     "name": "stdout",
     "output_type": "stream",
     "text": [
      "Ernest Khalimov\n",
      "Alisher Morgenshtern\n",
      "Joe Biden\n"
     ]
    },
    {
     "data": {
      "text/plain": [
       "44.75224270143772"
      ]
     },
     "execution_count": 7,
     "metadata": {},
     "output_type": "execute_result"
    }
   ],
   "source": [
    "people_three = [\n",
    "  Person.new(\"Ernest Khalimov\", apartment, apartment.width / 2, apartment.height / 2),\n",
    "  Person.new(\"Alisher Morgenshtern\", apartment, apartment.width / 2, apartment.height / 2),\n",
    "  Person.new(\"Joe Biden\", apartment, apartment.width / 2, apartment.height / 2)\n",
    "]\n",
    "puts people_three.map(&:name)\n",
    "test(power_saving_iteration, 18000, apartment, people_three)"
   ]
  },
  {
   "cell_type": "markdown",
   "id": "attended-fleet",
   "metadata": {},
   "source": [
    "## Comfortable\n",
    "\n",
    "Uses algorithm that decides which lamps to turn on based on their comfortability (distance from the user)\n",
    "\n",
    "Assures area near user will have luminocity of 150 lux\n",
    "\n",
    "Each person has 3m activation radius"
   ]
  },
  {
   "cell_type": "code",
   "execution_count": 8,
   "id": "parental-mainstream",
   "metadata": {},
   "outputs": [
    {
     "data": {
      "text/plain": [
       "#<Proc:0x00007fae200c4ee8 (irb):0>"
      ]
     },
     "execution_count": 8,
     "metadata": {},
     "output_type": "execute_result"
    }
   ],
   "source": [
    "comfortable_iteration = proc do |apartment, people|\n",
    "  desired_illumination = 150\n",
    "  \n",
    "  people.each do |person|\n",
    "    person.move!\n",
    "    nearby_lamps = person.room.lamps.each { |lamp| lamp.target(person.x, person.y, 135) }.filter(&:in_range).sort_by(&:comfortability)\n",
    "    \n",
    "    illumination = desired_illumination\n",
    "    while !nearby_lamps.empty?\n",
    "      total_comfortability = nearby_lamps.map(&:comfortability).inject(:+)\n",
    "      lamp = nearby_lamps.shift\n",
    "      illumination -= lamp.request(illumination * lamp.comfortability / total_comfortability)\n",
    "    end\n",
    "    puts \"Not enough light! #{illumination.round} more lux needed (#{person.x.round}, #{person.y.round})\" if illumination > 20\n",
    "  end\n",
    "  (apartment.rooms + [apartment.hall]).map(&:lamps).flatten.each(&:apply).map(&:consumption).inject(:+)\n",
    "end"
   ]
  },
  {
   "cell_type": "markdown",
   "id": "encouraging-choice",
   "metadata": {},
   "source": [
    "### Comfortable single"
   ]
  },
  {
   "cell_type": "code",
   "execution_count": 9,
   "id": "experimental-intro",
   "metadata": {},
   "outputs": [
    {
     "name": "stdout",
     "output_type": "stream",
     "text": [
      "Ernest Khalimov\n"
     ]
    },
    {
     "data": {
      "text/plain": [
       "35.82136869097936"
      ]
     },
     "execution_count": 9,
     "metadata": {},
     "output_type": "execute_result"
    }
   ],
   "source": [
    "people_single = [Person.new(\"Ernest Khalimov\", apartment, apartment.width / 2, apartment.height / 2)]\n",
    "puts people_single.map(&:name)\n",
    "test(comfortable_iteration, 18000, apartment, people_single)"
   ]
  },
  {
   "cell_type": "markdown",
   "id": "veterinary-humanity",
   "metadata": {},
   "source": [
    "### Comfortable two"
   ]
  },
  {
   "cell_type": "code",
   "execution_count": 10,
   "id": "interracial-inventory",
   "metadata": {
    "scrolled": true
   },
   "outputs": [
    {
     "name": "stdout",
     "output_type": "stream",
     "text": [
      "Ernest Khalimov\n",
      "Alisher Morgenshtern\n"
     ]
    },
    {
     "data": {
      "text/plain": [
       "62.36284292380649"
      ]
     },
     "execution_count": 10,
     "metadata": {},
     "output_type": "execute_result"
    }
   ],
   "source": [
    "people_two = [\n",
    "  Person.new(\"Ernest Khalimov\", apartment, apartment.width / 2, apartment.height / 2),\n",
    "  Person.new(\"Alisher Morgenshtern\", apartment, apartment.width / 2, apartment.height / 2)\n",
    "]\n",
    "puts people_two.map(&:name)\n",
    "test(comfortable_iteration, 18000, apartment, people_two)"
   ]
  },
  {
   "cell_type": "markdown",
   "id": "african-cross",
   "metadata": {},
   "source": [
    "### Comfortable three"
   ]
  },
  {
   "cell_type": "code",
   "execution_count": 11,
   "id": "breathing-biotechnology",
   "metadata": {},
   "outputs": [
    {
     "name": "stdout",
     "output_type": "stream",
     "text": [
      "Ernest Khalimov\n",
      "Alisher Morgenshtern\n",
      "Joe Biden\n"
     ]
    },
    {
     "data": {
      "text/plain": [
       "84.07359021536968"
      ]
     },
     "execution_count": 11,
     "metadata": {},
     "output_type": "execute_result"
    }
   ],
   "source": [
    "people_three = [\n",
    "  Person.new(\"Ernest Khalimov\", apartment, apartment.width / 2, apartment.height / 2),\n",
    "  Person.new(\"Alisher Morgenshtern\", apartment, apartment.width / 2, apartment.height / 2),\n",
    "  Person.new(\"Joe Biden\", apartment, apartment.width / 2, apartment.height / 2)\n",
    "]\n",
    "puts people_three.map(&:name)\n",
    "test(comfortable_iteration, 18000, apartment, people_three)"
   ]
  },
  {
   "cell_type": "markdown",
   "id": "auburn-detector",
   "metadata": {},
   "source": [
    "## Ordinary careful\n",
    "\n",
    "Users turn on the lights near them, not forgetting to turn them off"
   ]
  },
  {
   "cell_type": "code",
   "execution_count": 12,
   "id": "useful-export",
   "metadata": {},
   "outputs": [
    {
     "data": {
      "text/plain": [
       "#<Proc:0x00007fae20933a98 (irb):0>"
      ]
     },
     "execution_count": 12,
     "metadata": {},
     "output_type": "execute_result"
    }
   ],
   "source": [
    "ordinary_careful_iteration = proc do |apartment, people|\n",
    "  people.each do |person|\n",
    "    person.move!\n",
    "    person.room.lamps.each { |lamp| lamp.target(person.x, person.y, 90) }.filter(&:in_range).map(&:on!)\n",
    "  end\n",
    "  (apartment.rooms + [apartment.hall]).map(&:lamps).flatten.each(&:apply).map(&:consumption).inject(:+)\n",
    "end"
   ]
  },
  {
   "cell_type": "markdown",
   "id": "tropical-colleague",
   "metadata": {},
   "source": [
    "### Ordinary careful single"
   ]
  },
  {
   "cell_type": "code",
   "execution_count": 13,
   "id": "ideal-folks",
   "metadata": {},
   "outputs": [
    {
     "name": "stdout",
     "output_type": "stream",
     "text": [
      "Ernest Khalimov\n"
     ]
    },
    {
     "data": {
      "text/plain": [
       "55.85330555555556"
      ]
     },
     "execution_count": 13,
     "metadata": {},
     "output_type": "execute_result"
    }
   ],
   "source": [
    "people_single = [Person.new(\"Ernest Khalimov\", apartment, apartment.width / 2, apartment.height / 2)]\n",
    "puts people_single.map(&:name)\n",
    "test(ordinary_careful_iteration, 18000, apartment, people_single)"
   ]
  },
  {
   "cell_type": "markdown",
   "id": "medieval-invalid",
   "metadata": {},
   "source": [
    "### Ordinary careful two"
   ]
  },
  {
   "cell_type": "code",
   "execution_count": 14,
   "id": "alpine-entrepreneur",
   "metadata": {
    "scrolled": true
   },
   "outputs": [
    {
     "name": "stdout",
     "output_type": "stream",
     "text": [
      "Ernest Khalimov\n",
      "Alisher Morgenshtern\n"
     ]
    },
    {
     "data": {
      "text/plain": [
       "98.58752777777778"
      ]
     },
     "execution_count": 14,
     "metadata": {},
     "output_type": "execute_result"
    }
   ],
   "source": [
    "people_two = [\n",
    "  Person.new(\"Ernest Khalimov\", apartment, apartment.width / 2, apartment.height / 2),\n",
    "  Person.new(\"Alisher Morgenshtern\", apartment, apartment.width / 2, apartment.height / 2)\n",
    "]\n",
    "puts people_two.map(&:name)\n",
    "test(ordinary_careful_iteration, 18000, apartment, people_two)"
   ]
  },
  {
   "cell_type": "markdown",
   "id": "psychological-texas",
   "metadata": {},
   "source": [
    "### Ordinary careful three"
   ]
  },
  {
   "cell_type": "code",
   "execution_count": 15,
   "id": "consistent-wholesale",
   "metadata": {},
   "outputs": [
    {
     "name": "stdout",
     "output_type": "stream",
     "text": [
      "Ernest Khalimov\n",
      "Alisher Morgenshtern\n",
      "Joe Biden\n"
     ]
    },
    {
     "data": {
      "text/plain": [
       "130.17983333333333"
      ]
     },
     "execution_count": 15,
     "metadata": {},
     "output_type": "execute_result"
    }
   ],
   "source": [
    "people_three = [\n",
    "  Person.new(\"Ernest Khalimov\", apartment, apartment.width / 2, apartment.height / 2),\n",
    "  Person.new(\"Alisher Morgenshtern\", apartment, apartment.width / 2, apartment.height / 2),\n",
    "  Person.new(\"Joe Biden\", apartment, apartment.width / 2, apartment.height / 2)\n",
    "]\n",
    "puts people_three.map(&:name)\n",
    "test(ordinary_careful_iteration, 18000, apartment, people_three)"
   ]
  },
  {
   "cell_type": "markdown",
   "id": "undefined-sessions",
   "metadata": {},
   "source": [
    "## Ordinary\n",
    "\n",
    "Users turn on the lights near them with a **10% chance** to forget to turn them off (more realistic scenario)"
   ]
  },
  {
   "cell_type": "code",
   "execution_count": 16,
   "id": "precious-camel",
   "metadata": {},
   "outputs": [
    {
     "data": {
      "text/plain": [
       "#<Proc:0x00007fae37919de8 (irb):0>"
      ]
     },
     "execution_count": 16,
     "metadata": {},
     "output_type": "execute_result"
    }
   ],
   "source": [
    "ordinary_iteration = proc do |apartment, people|\n",
    "  people.each do |person|\n",
    "    person.move!\n",
    "    person.room.lamps.each { |lamp| lamp.target(person.x, person.y, 90) }.filter(&:in_range).map(&:on!)\n",
    "  end\n",
    "  (apartment.rooms + [apartment.hall]).map(&:lamps).flatten.each { |lamp| lamp.apply(0.1) }.map(&:consumption).inject(:+)\n",
    "end"
   ]
  },
  {
   "cell_type": "markdown",
   "id": "through-advice",
   "metadata": {},
   "source": [
    "### Ordinary single"
   ]
  },
  {
   "cell_type": "code",
   "execution_count": 17,
   "id": "instrumental-volume",
   "metadata": {},
   "outputs": [
    {
     "name": "stdout",
     "output_type": "stream",
     "text": [
      "Ernest Khalimov\n"
     ]
    },
    {
     "data": {
      "text/plain": [
       "71.34033333333333"
      ]
     },
     "execution_count": 17,
     "metadata": {},
     "output_type": "execute_result"
    }
   ],
   "source": [
    "people_single = [Person.new(\"Ernest Khalimov\", apartment, apartment.width / 2, apartment.height / 2)]\n",
    "puts people_single.map(&:name)\n",
    "test(ordinary_iteration, 18000, apartment, people_single)"
   ]
  },
  {
   "cell_type": "markdown",
   "id": "worst-factory",
   "metadata": {},
   "source": [
    "### Ordinary two"
   ]
  },
  {
   "cell_type": "code",
   "execution_count": 18,
   "id": "greenhouse-crest",
   "metadata": {},
   "outputs": [
    {
     "name": "stdout",
     "output_type": "stream",
     "text": [
      "Ernest Khalimov\n",
      "Alisher Morgenshtern\n"
     ]
    },
    {
     "data": {
      "text/plain": [
       "109.83822222222223"
      ]
     },
     "execution_count": 18,
     "metadata": {},
     "output_type": "execute_result"
    }
   ],
   "source": [
    "people_two = [\n",
    "  Person.new(\"Ernest Khalimov\", apartment, apartment.width / 2, apartment.height / 2),\n",
    "  Person.new(\"Alisher Morgenshtern\", apartment, apartment.width / 2, apartment.height / 2)\n",
    "]\n",
    "puts people_two.map(&:name)\n",
    "test(ordinary_iteration, 18000, apartment, people_two)"
   ]
  },
  {
   "cell_type": "markdown",
   "id": "constitutional-teaching",
   "metadata": {},
   "source": [
    "### Ordinary three"
   ]
  },
  {
   "cell_type": "code",
   "execution_count": 19,
   "id": "demographic-scope",
   "metadata": {},
   "outputs": [
    {
     "name": "stdout",
     "output_type": "stream",
     "text": [
      "Ernest Khalimov\n",
      "Alisher Morgenshtern\n",
      "Joe Biden\n"
     ]
    },
    {
     "data": {
      "text/plain": [
       "141.425"
      ]
     },
     "execution_count": 19,
     "metadata": {},
     "output_type": "execute_result"
    }
   ],
   "source": [
    "people_three = [\n",
    "  Person.new(\"Ernest Khalimov\", apartment, apartment.width / 2, apartment.height / 2),\n",
    "  Person.new(\"Alisher Morgenshtern\", apartment, apartment.width / 2, apartment.height / 2),\n",
    "  Person.new(\"Joe Biden\", apartment, apartment.width / 2, apartment.height / 2)\n",
    "]\n",
    "puts people_three.map(&:name)\n",
    "test(ordinary_iteration, 18000, apartment, people_three)"
   ]
  }
 ],
 "metadata": {
  "kernelspec": {
   "display_name": "Ruby 3.0.0",
   "language": "ruby",
   "name": "ruby"
  },
  "language_info": {
   "file_extension": ".rb",
   "mimetype": "application/x-ruby",
   "name": "ruby",
   "version": "3.0.0"
  }
 },
 "nbformat": 4,
 "nbformat_minor": 5
}
